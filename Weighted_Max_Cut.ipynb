{
  "nbformat": 4,
  "nbformat_minor": 0,
  "metadata": {
    "colab": {
      "name": "Weighted Max Cut.ipynb",
      "provenance": [],
      "collapsed_sections": [],
      "authorship_tag": "ABX9TyPO8tZC74ZH57nPrLhadh4j",
      "include_colab_link": true
    },
    "kernelspec": {
      "name": "python3",
      "display_name": "Python 3"
    }
  },
  "cells": [
    {
      "cell_type": "markdown",
      "metadata": {
        "id": "view-in-github",
        "colab_type": "text"
      },
      "source": [
        "<a href=\"https://colab.research.google.com/github/ashishk121/Weighted-Max-Cut/blob/main/Weighted_Max_Cut.ipynb\" target=\"_parent\"><img src=\"https://colab.research.google.com/assets/colab-badge.svg\" alt=\"Open In Colab\"/></a>"
      ]
    },
    {
      "cell_type": "markdown",
      "metadata": {
        "id": "O5Ykp939008F"
      },
      "source": [
        "An outline of the notebook:\n",
        "1. Statement of problem\n",
        "2. Setting up the Classical Hamiltonain\n",
        "3. QAOA solution\n",
        "4. QUBO formulation and check\n",
        "5. Solution on Classic simulated Annealer devices and comparisons "
      ]
    },
    {
      "cell_type": "markdown",
      "metadata": {
        "id": "RKF4_BMi3CvO"
      },
      "source": [
        "**1. Statement of problem**\n",
        "\n",
        "The MaxCut problem is a well-known optimization problem in which the nodes of a given undirected graph have to be divided in two sets (often referred as the set of “white” and “black” nodes) such that the number of edges connecting a white node with a black node are maximized. The MaxCut problem is a problem on which the QAOA algorithm has proved to be useful (for an explanation of the QAOA algorithm you can read this [blogpost](https://www.mustythoughts.com/quantum-approximate-optimization-algorithm-explained)).\n",
        "\n",
        "At this [link](https://lucaman99.github.io/new_blog/2020/mar16.html)\n",
        " you can find an explicit implementation of the QAOA algorithm to solve the MaxCut problem for the simpler case of an unweighted graph. We ask you to generalize the above code to include also the solution for the case of weighted graphs. You can use the same code or you can also do an alternative implementation using, for example, qiskit. The important point is that you do not make use of any built-in QAOA functionalities.\n",
        "\n",
        "\n"
      ]
    },
    {
      "cell_type": "markdown",
      "metadata": {
        "id": "hBSqArzO4Ruh"
      },
      "source": [
        "**2. Set-Up and Classical problem**\n",
        "\n",
        "\n",
        "**Definitions:**\n",
        "\n",
        "We are given an undirected graph $G=(V,E)$ with $n$ edges. This information can be alternatively encoded in the adjacency matrix $a_{ij}$ which is defined such that $a_{ij}=1$ if there an edge between the vertices $i,j \\in V$ and $0$ otherwise. Each non-zero $a_{ij}$ has an associated weight associated with it $w_{ij}$ which we take to be positive.\n",
        "\n",
        "\n",
        "\n",
        "**Let us define a weighted Adjacency matrix** $A_{ij}$ as the adjacency matrix, but with weights $w_{ij}$ as the entry wherever $a_{ij}=1$ and $0$ elsewhere. \n",
        "\n",
        "**Finding the objective function**\n",
        "\n",
        "To an arbitrary vertex $i$ we can assign a black or white colouring by associating to it a binary variable $x_i$. The problem of dividing $V$ into 2 sets is then the same as assigning all the $x_i$ the value $0$ or $1$ provided this assignment achieves the weighted maximum of cut edges connecting a white node with a black node.\n",
        "\n",
        "Let's look at the favourable and unfavourable situtations in detail in order to write down the correct objective:\n",
        "\n",
        "**Favourable**:\n",
        "\n",
        " $A_{ij}=\\text{large number}$ And $(x_i-x_j)^2=1$ (an edge strongly connects $i,j$ and it is cut ie. $i,j$ are in different sets)\n",
        "\n",
        "Squaring the difference is important because we do not care if $\\{x_i=1,x_j=0\\}$ or  $\\{x_i=0,x_j=1\\}$\n",
        "\n",
        "**Un-Favourable**:\n",
        "\n",
        "$A_{ij}=\\text{small number}$ And $(x_i-x_j)^2=1$ (an edge weakly connects  $i,j$  but there is a cut )\n",
        "\n",
        "$A_{ij}=\\text{large number}$ And $(x_i-x_j)^2=0$ (an edge strongly connects  $i,j$  but there is no cut )\n",
        "\n",
        "**Do not care**:\n",
        "\n",
        "$A_{ij}=0$ and $(x_i-x_j)^2=0$ (an edge does not connect  $i,j$  and there is no cut )\n",
        "\n",
        "So we need to go through all possible assingments of $x_i$ and $x_j$ maximise while maximizing the following objective:\n",
        "\n",
        "\n",
        "\n",
        "**Objective to be Maximized for Weighted Cuts**=$\\sum_{i,j=1}^{n} A_{ij} (x_i-x_j)^2 $\n",
        "\n",
        "\n",
        "\n",
        "The weighted max cut is a special case of these considerations and it is also clear that the objective function for the unweighted problem is\n",
        "**Objective to be Maximized for Un-Weighted Cuts**=$\\sum_{i,j=1}^{n} a_{ij} (x_i-x_j)^2 $\n",
        "\n",
        "\n",
        "We can rewrite the above objective by :\n",
        "1. changing variables which take values $-1,1$ instead of $0,1$ via the map $f(x)=1-2x$ \n",
        "2. sum over only indices which have an edge connecting them \n",
        "3. minimizing by multiplying by an overall minus.\n",
        "This gives us the generalization of cost function in [Jack Ceroni](https://lucaman99.github.io/new_blog/2020/mar16.html)\n",
        "\n",
        "**Objective to be Minimized for Weighted Max Cuts** = $\\sum_{a,b} w_{ab} (c_a c_b-1) $ where $(a,b)\\in E$ \n",
        "\n"
      ]
    },
    {
      "cell_type": "code",
      "metadata": {
        "id": "qXAggu4vrRs8"
      },
      "source": [
        "\n",
        "try:\n",
        "    import cirq\n",
        "except ImportError:\n",
        "    print(\"installing cirq...\")\n",
        "    !pip install --quiet cirq\n",
        "    print(\"installed cirq.\")\n",
        "import numpy as np\n",
        "import networkx as nx\n",
        "from matplotlib import pyplot as plt\n",
        "import math\n",
        "import random\n",
        "from scipy.optimize import minimize  \n",
        "from collections import defaultdict \n"
      ],
      "execution_count": 313,
      "outputs": []
    },
    {
      "cell_type": "markdown",
      "metadata": {
        "id": "HLCZxfem0z8_"
      },
      "source": [
        "We define Edges which contain information of the two edges it connects and the associated weight \n"
      ]
    },
    {
      "cell_type": "code",
      "metadata": {
        "id": "-rpFnvbYrjxn"
      },
      "source": [
        "# We take this weighted adjacency matrix as our example\n",
        "num=5;\n",
        "A=np.array([[0,1,1,0,0],[1,0,0,10,0],[1,0,0,1,1],[0,10,1,0,1],[0,0,1,1,0]])\n",
        "\n",
        "# Edge is labeled by the two vertices it connects and the associated weight\n",
        "class Edge:\n",
        "    def __init__(self, start_node, end_node, weight):\n",
        "        self.start_node = start_node\n",
        "        self.end_node = end_node\n",
        "        self.weight = weight \n",
        "\n",
        "# Go from A to edges\n",
        "set_edges=[];\n",
        "for i in range(0,num):\n",
        "  for j in range(0,num):\n",
        "    if (A[i,j]!=0) and (j>i):\n",
        "      set_edges.append(Edge(i, j, A[i,j])) "
      ],
      "execution_count": 314,
      "outputs": []
    },
    {
      "cell_type": "markdown",
      "metadata": {
        "id": "i0XKd2VbY2O2"
      },
      "source": [
        "3. **QAOA solution**\n",
        "\n",
        "**Quantum Problem**\n",
        "\n",
        "We can promote the classical variables $c_a$ to quantum variables $Z_a$ and the quantum Hamiltonian that we want to minimize is: \n",
        "\n",
        "$H_C=  \\sum_{a,b} w_{ab} (Z_a Z_b- \\mathbb{I})$ where $(a,b)\\in E$\n",
        "\n",
        "\n",
        "The Identity gives an overall constant shift, so we can drop it \n",
        "\n",
        "$$H_C=  \\sum_{a,b} w_{ab} Z_a Z_b$$ where $(a,b)\\in E$\n",
        "\n",
        "\n",
        "Here $Z_a$ is the operator $\\sigma_z$ applied at the vertex $a$ which is associated with qubit $a$.\n",
        "If we find the ground state of this Hamiltonian and measure its expectation value in the ground state in the $Z$ basis, we are done. The measurement would give us the classical variables $c_a$ which we can convert back to $x_a$. \n",
        "\n",
        "We need to find the ground state and the  ansatz for the ground state according to QAOA algorithm is the state:\n",
        "\n",
        "$$ |\\psi(\\gamma,\\beta)> = e^{- i \\beta_p H_M} e^{-i \\gamma_p H_C} ... e^{- i \\beta_1 H_M}e^{- i \\gamma_1 H_C} (|+> \\otimes...|+> ) $$\n",
        "\n",
        "In our circuit, depth is denoted by p, n is denoted by num and the mixer Hamiltonian is $H_M= \\sum_{i=1}^n X_i$\n",
        "\n",
        "\n",
        "$H_M$ chosen this way guarantees that $[H_M,H_C]\\neq 0$ since for $i=a$ or $b$, $Z_a$ and $X_a$ act on the same site and do not commute.\n",
        "\n",
        "This ensures that we are not stuck in the subspace where $[H_M,H_C]= 0$ in our variational search for the ground state. \n",
        "\n",
        "**The code below is heavily influnced by the great article by [Jack Ceroni](https://lucaman99.github.io/new_blog/2020/mar16.html)**"
      ]
    },
    {
      "cell_type": "code",
      "metadata": {
        "id": "okBozWcctXd5"
      },
      "source": [
        "# Defines the list of qubits\n",
        "num = 5\n",
        "depth = 4\n",
        "rep = 1000\n",
        "qubits = [cirq.GridQubit(0, i) for i in range(0, num)]\n",
        "\n",
        "# Defines the initialization of state psi\n",
        "\n",
        "def initialization(qubits):\n",
        "    for i in qubits:\n",
        "        yield cirq.H.on(i)"
      ],
      "execution_count": 315,
      "outputs": []
    },
    {
      "cell_type": "code",
      "metadata": {
        "id": "i17AHaU_jlKN"
      },
      "source": [
        "def cost_unitary(qubits, gamma):\n",
        "    for i in set_edges:\n",
        "        yield cirq.ZZ(qubits[i.start_node], qubits[i.end_node])**(-1*(gamma)*i.weight) \n",
        "        \n",
        "# Defines the mixer unitary\n",
        "\n",
        "def mixer_unitary(qubits, beta):\n",
        "    for i in range(0, len(qubits)):\n",
        "        yield cirq.XPowGate(exponent=-1*beta).on(qubits[i])"
      ],
      "execution_count": 316,
      "outputs": []
    },
    {
      "cell_type": "code",
      "metadata": {
        "id": "D7bKYjo3Go_s"
      },
      "source": [
        "# Executes the circuit\n",
        "\n",
        "def create_circuit(params):\n",
        "\n",
        "    gamma = [params[0], params[2], params[4], params[6]]\n",
        "    beta = [params[1], params[3], params[5],  params[7]]\n",
        "\n",
        "# Put together initialization, cost and mixer hamiltonians and finally read out measurements \n",
        "    circuit = cirq.Circuit()\n",
        "    circuit.append(initialization(qubits))\n",
        "    for i in range(0, depth):\n",
        "        circuit.append(cost_unitary(qubits, gamma[i]))\n",
        "        circuit.append(mixer_unitary(qubits, beta[i]))\n",
        "    circuit.append(cirq.measure(*qubits, key='x'))\n",
        "\n",
        "\n",
        "    simulator = cirq.Simulator()\n",
        "    results = simulator.run(circuit, repetitions=rep)\n",
        "    results = str(results)[2:].split(\", \")\n",
        "    new_res = []\n",
        "    for i in range(0, rep):\n",
        "        hold = []\n",
        "        for j in range(0, num):\n",
        "            hold.append(int(results[j][i]))\n",
        "        new_res.append(hold)\n",
        "\n",
        "    return new_res"
      ],
      "execution_count": 317,
      "outputs": []
    },
    {
      "cell_type": "code",
      "metadata": {
        "id": "8OrwrBkEGw_N"
      },
      "source": [
        "# we can now convert our measurements in c_a variables to x_a variables which are binary\n",
        "def cost_function(params):\n",
        "\n",
        "    av = create_circuit(params)\n",
        "    total_cost = 0\n",
        "    for i in range(0, len(av)):\n",
        "        for j in set_edges:\n",
        "            total_cost += 0.5*( ( (1 - 2*av[i][j.start_node]) * (1 - 2*av[i][j.end_node]) ) - 1)\n",
        "    total_cost = float(total_cost)/rep\n",
        "\n",
        "    print(\"Cost: \"+str(total_cost))\n",
        "\n",
        "    return total_cost\n"
      ],
      "execution_count": 318,
      "outputs": []
    },
    {
      "cell_type": "markdown",
      "metadata": {
        "id": "nKzcutLFlQ77"
      },
      "source": [
        "**Classical Optimization** \n",
        "\n",
        "\n",
        "We now do the classical variational part of tuning all possible $\\{\\beta_i,\\gamma_i\\}$ in order to get as close to the ground state as possible.  This is tried via two different optimizers with random initialization. It seems like this process is highly dependant on the initialization. \n",
        "\n"
      ]
    },
    {
      "cell_type": "code",
      "metadata": {
        "id": "wcm39P-eG0Zt"
      },
      "source": [
        "init =[float(random.randint(-100, 100))/float(200) for i in range(0, 2*depth)]\n",
        "out = minimize(cost_function, x0=init, method=\"COBYLA\", options={'maxiter':1000})\n",
        "print(out)\n",
        "\n",
        "optimal_params = out['x']\n",
        "f = create_circuit(optimal_params)\n",
        "# Creates visualization of the optimal state\n",
        "\n",
        "nums = []\n",
        "freq = []\n",
        "\n",
        "for i in range(0, len(f)):\n",
        "    number = 0\n",
        "    for j in range(0, len(f[i])):\n",
        "        number += 2**(len(f[i])-j-1)*f[i][j]\n",
        "    if (number in nums):\n",
        "        freq[nums.index(number)] = freq[nums.index(number)] + 1\n",
        "    else:\n",
        "        nums.append(number)\n",
        "        freq.append(1)\n",
        "\n",
        "freq = [s/sum(freq) for s in freq]\n",
        "\n",
        "print(nums)\n",
        "print(freq)\n",
        "\n",
        "x = range(0, 2**num)\n",
        "y = []\n",
        "for i in range(0, len(x)):\n",
        "    if (i in nums):\n",
        "        y.append(freq[nums.index(i)])\n",
        "    else:\n",
        "        y.append(0)\n",
        "\n",
        "plt.bar(x, y)"
      ],
      "execution_count": null,
      "outputs": []
    },
    {
      "cell_type": "code",
      "metadata": {
        "colab": {
          "base_uri": "https://localhost:8080/",
          "height": 282
        },
        "id": "D1tyjfBRmsgk",
        "outputId": "9c880ff3-9065-41b3-e580-628031a0ee10"
      },
      "source": [
        "plt.bar(x, y)"
      ],
      "execution_count": 326,
      "outputs": [
        {
          "output_type": "execute_result",
          "data": {
            "text/plain": [
              "<BarContainer object of 32 artists>"
            ]
          },
          "metadata": {
            "tags": []
          },
          "execution_count": 326
        },
        {
          "output_type": "display_data",
          "data": {
            "image/png": "[encoded data removed]",
            "text/plain": [
              "<Figure size 432x288 with 1 Axes>"
            ]
          },
          "metadata": {
            "tags": [],
            "needs_background": "light"
          }
        }
      ]
    },
    {
      "cell_type": "code",
      "metadata": {
        "colab": {
          "base_uri": "https://localhost:8080/",
          "height": 0
        },
        "id": "PUAL_OVQHVee",
        "outputId": "54a2d1b9-1596-4db9-e1d6-a3dde3d76bb3"
      },
      "source": [
        "np.argmax(y)"
      ],
      "execution_count": 149,
      "outputs": [
        {
          "output_type": "execute_result",
          "data": {
            "text/plain": [
              "13"
            ]
          },
          "metadata": {
            "tags": []
          },
          "execution_count": 149
        }
      ]
    },
    {
      "cell_type": "markdown",
      "metadata": {
        "id": "12GUSRkXxs-m"
      },
      "source": [
        "**We  find y=13 and y=18 as very clear peaks which correspond to the following assignment of $$x=\\{0,1,1,0,0\\}$$ and $$x=\\{1,0,0,1,0\\}$$**\n",
        "\n",
        "\n",
        "Note: Actually, after running this many times, it seems like getting such a clear plot as above is highly dependant on initial conditions and is deceptive."
      ]
    },
    {
      "cell_type": "code",
      "metadata": {
        "id": "SshzsHyQC7CW"
      },
      "source": [
        "init =[float(random.randint(-100, 100))/float(200) for i in range(0, 8)]\n",
        "out = minimize(cost_function, x0=init, method=\"Nelder-Mead\", options={'maxiter':100})\n",
        "print(out)\n",
        "\n",
        "optimal_params = out['x']\n",
        "\n",
        "# Creates visualization of the optimal state\n",
        "\n",
        "nums = []\n",
        "freq = []\n",
        "\n",
        "for i in range(0, len(f)):\n",
        "    number = 0\n",
        "    for j in range(0, len(f[i])):\n",
        "        number += 2**(len(f[i])-j-1)*f[i][j]\n",
        "    if (number in nums):\n",
        "        freq[nums.index(number)] = freq[nums.index(number)] + 1\n",
        "    else:\n",
        "        nums.append(number)\n",
        "        freq.append(1)\n",
        "\n",
        "freq = [s/sum(freq) for s in freq]\n",
        "\n",
        "print(nums)\n",
        "print(freq)\n",
        "\n",
        "x = range(0, 2**num)\n",
        "y = []\n",
        "for i in range(0, len(x)):\n",
        "    if (i in nums):\n",
        "        y.append(freq[nums.index(i)])\n",
        "    else:\n",
        "        y.append(0)\n",
        "\n",
        "\n",
        "fig=plt.bar(x, y)"
      ],
      "execution_count": null,
      "outputs": []
    },
    {
      "cell_type": "code",
      "metadata": {
        "colab": {
          "base_uri": "https://localhost:8080/",
          "height": 282
        },
        "id": "AiQ3Oss7nN1T",
        "outputId": "a14687ce-60ef-4f9b-fdf2-1d2e763796e3"
      },
      "source": [
        "plt.bar(x, y)"
      ],
      "execution_count": 328,
      "outputs": [
        {
          "output_type": "execute_result",
          "data": {
            "text/plain": [
              "<BarContainer object of 32 artists>"
            ]
          },
          "metadata": {
            "tags": []
          },
          "execution_count": 328
        },
        {
          "output_type": "display_data",
          "data": {
            "image/png": "[encoded data removed]",
            "text/plain": [
              "<Figure size 432x288 with 1 Axes>"
            ]
          },
          "metadata": {
            "tags": [],
            "needs_background": "light"
          }
        }
      ]
    },
    {
      "cell_type": "code",
      "metadata": {
        "colab": {
          "base_uri": "https://localhost:8080/",
          "height": 0
        },
        "id": "schtGzX7IJ5_",
        "outputId": "f54861aa-61c1-456a-ed76-ac87a21fbf76"
      },
      "source": [
        "bin(13)[2::],bin(18)[2::]\n"
      ],
      "execution_count": 176,
      "outputs": [
        {
          "output_type": "execute_result",
          "data": {
            "text/plain": [
              "('1101', '10010')"
            ]
          },
          "metadata": {
            "tags": []
          },
          "execution_count": 176
        }
      ]
    },
    {
      "cell_type": "markdown",
      "metadata": {
        "id": "T2K-gWtoyjIL"
      },
      "source": [
        "**Changing the classical optimizer to Nelder-Mead, we again find y=13 and y=18 which corresponds to the following assignment of $$x=\\{0,1,1,0,0\\}$$ and $$x=\\{1,0,0,1,0\\}$$**\n",
        "\n",
        "\n",
        "\n"
      ]
    },
    {
      "cell_type": "markdown",
      "metadata": {
        "id": "IK8fxmn_2Ele"
      },
      "source": [
        "**4. QUBO Formulation**\n",
        "\n",
        "In order to check these results we reformulate the max-cut problem as a QUBO (Quandratic Unconstrained Binary Optimization) problem. This has the following advantages:\n",
        "1. There are many classical QUBO solvers, which we can use to check the validity of our results.\n",
        "2. Quantum Annealer devices such as D-Wave, can solve QUBO problems, so this will let us compare results between these 2 different types of quantum algorithms to solve the weighted max cut problem.\n",
        "\n",
        "\n",
        "A QUBO problem is of the following type, find the binary variables $x_i$ which minimize the following objective:\n",
        "\n",
        "$$\\sum_{i,j=1}^n x_i Q_{ij} x_j$$\n",
        "\n",
        "where Q is a real symmetric matrix. \n",
        "\n",
        "This is very similar to our original formulation of the problem: Find the x which minimizes the following objective: \n",
        "\n",
        "$$ \\sum_{i,j=1}^n - A_{ij}(x_i- x_j)^2  $$\n",
        "\n",
        "Below, we compute the matrix Q given a matrix A. \n",
        "In order to compare with earlier results, we use the matrix A corresponding to the previous problem."
      ]
    },
    {
      "cell_type": "markdown",
      "metadata": {
        "id": "cQurtmiLyL7V"
      },
      "source": [
        "Rearranging and summing over redundant indices gives\n",
        "\n",
        "\n",
        "\n"
      ]
    },
    {
      "cell_type": "code",
      "metadata": {
        "id": "I2P7EeBayTDE"
      },
      "source": [
        "A=np.array([[0,1,1,0,0],[1,0,0,10,0],[1,0,0,1,1],[0,10,1,0,1],[0,0,1,1,0]])\n",
        "B=np.array(np.ones((num,num)))\n",
        "Q=2*A - np.diag(np.diagonal(np.matmul(A,B)))\n",
        "\n",
        "\n",
        "q0=defaultdict(int)\n",
        "for u in range(0,num):\n",
        "    for v in range(0,num):\n",
        "        q0[(u,v)]= Q[u,v];"
      ],
      "execution_count": 173,
      "outputs": []
    },
    {
      "cell_type": "code",
      "metadata": {
        "id": "xY7-NLasA7Sa"
      },
      "source": [
        "import dimod"
      ],
      "execution_count": 127,
      "outputs": []
    },
    {
      "cell_type": "code",
      "metadata": {
        "colab": {
          "base_uri": "https://localhost:8080/",
          "height": 0
        },
        "id": "vZRXTdwyDy3m",
        "outputId": "34044e21-a115-445f-8127-f423b01f6435"
      },
      "source": [
        "sampler = dimod.ExactSolver()\n",
        "response=sampler.sample_qubo(q0)\n",
        "print(response)"
      ],
      "execution_count": 174,
      "outputs": [
        {
          "output_type": "stream",
          "text": [
            "    0  1  2  3  4 energy num_oc.\n",
            "4   0  1  1  0  0  -14.0       1\n",
            "14  1  0  0  1  0  -14.0       1\n",
            "28  0  1  0  0  1  -13.0       1\n",
            "15  0  0  0  1  0  -12.0       1\n",
            "17  1  0  0  1  1  -12.0       1\n",
            "27  0  1  1  0  1  -12.0       1\n",
            "3   0  1  0  0  0  -11.0       1\n",
            "8   0  0  1  1  0  -11.0       1\n",
            "29  1  1  0  0  1  -11.0       1\n",
            "16  0  0  0  1  1  -10.0       1\n",
            "2   1  1  0  0  0   -9.0       1\n",
            "9   1  0  1  1  0   -9.0       1\n",
            "5   1  1  1  0  0   -8.0       1\n",
            "26  1  1  1  0  1   -6.0       1\n",
            "23  0  0  1  1  1   -5.0       1\n",
            "30  1  0  0  0  1   -4.0       1\n",
            "7   0  0  1  0  0   -3.0       1\n",
            "22  1  0  1  1  1   -3.0       1\n",
            "1   1  0  0  0  0   -2.0       1\n",
            "31  0  0  0  0  1   -2.0       1\n",
            "6   1  0  1  0  0   -1.0       1\n",
            "24  0  0  1  0  1   -1.0       1\n",
            "0   0  0  0  0  0    0.0       1\n",
            "25  1  0  1  0  1    1.0       1\n",
            "12  0  1  0  1  0   17.0       1\n",
            "11  0  1  1  1  0   18.0       1\n",
            "13  1  1  0  1  0   19.0       1\n",
            "19  0  1  0  1  1   19.0       1\n",
            "18  1  1  0  1  1   21.0       1\n",
            "10  1  1  1  1  0   24.0       1\n",
            "20  0  1  1  1  1   24.0       1\n",
            "21  1  1  1  1  1   30.0       1\n",
            "['BINARY', 32 rows, 32 samples, 5 variables]\n"
          ],
          "name": "stdout"
        }
      ]
    },
    {
      "cell_type": "markdown",
      "metadata": {
        "id": "PArNJa91EE0v"
      },
      "source": [
        "**The exact solver tells us that the  correct solution is indeed $x=\\{0,1,1,0,0\\}$** and **$x=\\{1,0,0,1,0\\}$**"
      ]
    },
    {
      "cell_type": "markdown",
      "metadata": {
        "id": "ez_JayfK5Kfz"
      },
      "source": [
        "We can also run this on the classical annealing simulator which let's us acess much larger n, where it is impossible for the exact solver to work\n",
        "\n"
      ]
    },
    {
      "cell_type": "code",
      "metadata": {
        "colab": {
          "base_uri": "https://localhost:8080/",
          "height": 0
        },
        "id": "ZUn87rO7C3Cb",
        "outputId": "189185fa-8a13-40a2-d1eb-3e76b872009b"
      },
      "source": [
        "numruns=100\n",
        "sampler = dimod.SimulatedAnnealingSampler()\n",
        "response=sampler.sample_qubo(q0)\n",
        "print(response)"
      ],
      "execution_count": 177,
      "outputs": [
        {
          "output_type": "stream",
          "text": [
            "   0  1  2  3  4 energy num_oc.\n",
            "0  0  1  1  0  0  -14.0       1\n",
            "1  0  1  1  0  0  -14.0       1\n",
            "2  0  1  1  0  0  -14.0       1\n",
            "4  1  0  0  1  0  -14.0       1\n",
            "5  1  0  0  1  0  -14.0       1\n",
            "6  0  1  1  0  0  -14.0       1\n",
            "7  0  1  1  0  0  -14.0       1\n",
            "8  0  1  1  0  0  -14.0       1\n",
            "9  0  1  1  0  0  -14.0       1\n",
            "3  0  1  0  0  1  -13.0       1\n",
            "['BINARY', 10 rows, 10 samples, 5 variables]\n"
          ],
          "name": "stdout"
        }
      ]
    },
    {
      "cell_type": "markdown",
      "metadata": {
        "id": "ojnKGGzsFAK_"
      },
      "source": [
        "**Simullated annealing can find both ground states**"
      ]
    },
    {
      "cell_type": "markdown",
      "metadata": {
        "id": "2xdppq5cIpla"
      },
      "source": [
        "**We can try the problem out on a larger sized graph to see how things work, code below repeats**"
      ]
    },
    {
      "cell_type": "code",
      "metadata": {
        "id": "Bc4nCww1K_js"
      },
      "source": [
        "num=12;\n",
        "A = np.random.randint(0,10,size=(num,num))\n",
        "A= (A + A.T)\n",
        "np.fill_diagonal(A, 0)\n",
        "\n",
        "B=np.array(np.ones((num,num)))\n",
        "Q=2*A - np.diag(np.diagonal(np.matmul(A,B)))\n",
        "\n",
        "q0=defaultdict(int)\n",
        "for u in range(0,num):\n",
        "    for v in range(0,num):\n",
        "        q0[(u,v)]= Q[u,v];\n",
        "\n",
        "set_edges=[];\n",
        "for i in range(0,num):\n",
        "  for j in range(0,num):\n",
        "    if (A[i,j]!=0) and (j>i):\n",
        "      set_edges.append(Edge(i, j, A[i,j])) "
      ],
      "execution_count": 210,
      "outputs": []
    },
    {
      "cell_type": "code",
      "metadata": {
        "colab": {
          "base_uri": "https://localhost:8080/",
          "height": 0
        },
        "id": "YmeVS5FuT0q8",
        "outputId": "70a7c980-8749-4dd8-eca1-77267b68cae7"
      },
      "source": [
        "A"
      ],
      "execution_count": 211,
      "outputs": [
        {
          "output_type": "execute_result",
          "data": {
            "text/plain": [
              "array([[ 0,  1, 10,  5, 12, 10,  6, 12,  7, 15, 14,  7],\n",
              "       [ 1,  0, 12,  6, 10, 15,  6,  9,  0,  9, 11, 14],\n",
              "       [10, 12,  0, 13,  7,  9,  5,  9,  7,  6, 11,  8],\n",
              "       [ 5,  6, 13,  0,  9,  9,  8, 12,  6, 14, 12, 13],\n",
              "       [12, 10,  7,  9,  0, 10, 10, 13,  6, 13, 10, 10],\n",
              "       [10, 15,  9,  9, 10,  0,  6, 11,  4,  8,  6, 12],\n",
              "       [ 6,  6,  5,  8, 10,  6,  0,  7, 11,  9,  5, 16],\n",
              "       [12,  9,  9, 12, 13, 11,  7,  0,  4,  5, 10, 14],\n",
              "       [ 7,  0,  7,  6,  6,  4, 11,  4,  0, 11, 11,  7],\n",
              "       [15,  9,  6, 14, 13,  8,  9,  5, 11,  0, 10,  8],\n",
              "       [14, 11, 11, 12, 10,  6,  5, 10, 11, 10,  0, 15],\n",
              "       [ 7, 14,  8, 13, 10, 12, 16, 14,  7,  8, 15,  0]])"
            ]
          },
          "metadata": {
            "tags": []
          },
          "execution_count": 211
        }
      ]
    },
    {
      "cell_type": "code",
      "metadata": {
        "id": "L-qd7VINKI36"
      },
      "source": [
        "# Defines the list of qubits\n",
        "depth = 4\n",
        "rep = 10000\n",
        "qubits = [cirq.GridQubit(0, i) for i in range(0, num)]\n",
        "\n",
        "# Defines the initialization of state psi\n",
        "\n",
        "def initialization(qubits):\n",
        "    for i in qubits:\n",
        "        yield cirq.H.on(i)\n",
        "def cost_unitary(qubits, gamma):\n",
        "    for i in set_edges:\n",
        "        yield cirq.ZZ(qubits[i.start_node], qubits[i.end_node])**(-1*(gamma)*i.weight) \n",
        "        \n",
        "# Defines the mixer unitary\n",
        "\n",
        "def mixer_unitary(qubits, beta):\n",
        "    for i in range(0, len(qubits)):\n",
        "        yield cirq.XPowGate(exponent=-1*beta).on(qubits[i])      \n",
        "\n",
        "# Executes the circuit\n",
        "\n",
        "def create_circuit(params):\n",
        "\n",
        "    gamma = [params[0], params[2], params[4], params[6]]\n",
        "    beta = [params[1], params[3], params[5],  params[7]]\n",
        "\n",
        "# Put together initialization, cost and mixer hamiltonians and finally read out measurements \n",
        "    circuit = cirq.Circuit()\n",
        "    circuit.append(initialization(qubits))\n",
        "    for i in range(0, depth):\n",
        "        circuit.append(cost_unitary(qubits, gamma[i]))\n",
        "        circuit.append(mixer_unitary(qubits, beta[i]))\n",
        "    circuit.append(cirq.measure(*qubits, key='x'))\n",
        "\n",
        "\n",
        "    simulator = cirq.Simulator()\n",
        "    results = simulator.run(circuit, repetitions=rep)\n",
        "    results = str(results)[2:].split(\", \")\n",
        "    new_res = []\n",
        "    for i in range(0, rep):\n",
        "        hold = []\n",
        "        for j in range(0, num):\n",
        "            hold.append(int(results[j][i]))\n",
        "        new_res.append(hold)\n",
        "\n",
        "    return new_res       \n",
        "\n",
        "# we can now convert our measurements in c_a variables to x_a variables which are binary\n",
        "def cost_function(params):\n",
        "\n",
        "    av = create_circuit(params)\n",
        "    total_cost = 0\n",
        "    for i in range(0, len(av)):\n",
        "        for j in set_edges:\n",
        "            total_cost += 0.5*( ( (1 - 2*av[i][j.start_node]) * (1 - 2*av[i][j.end_node]) ) - 1)\n",
        "    total_cost = float(total_cost)/rep\n",
        "\n",
        "    print(\"Cost: \"+str(total_cost))\n",
        "\n",
        "    return total_cost\n",
        "\n",
        "init =[float(random.randint(-100, 100))/float(200) for i in range(0, 2*depth)]\n",
        "out = minimize(cost_function, x0=init, method=\"Nelder-Mead\", options={'maxiter':100})\n",
        "print(out)\n",
        "\n",
        "optimal_params = out['x']\n",
        "f = create_circuit(optimal_params)\n",
        "# Creates visualization of the optimal state\n",
        "\n",
        "nums = []\n",
        "freq = []\n",
        "\n",
        "for i in range(0, len(f)):\n",
        "    number = 0\n",
        "    for j in range(0, len(f[i])):\n",
        "        number += 2**(len(f[i])-j-1)*f[i][j]\n",
        "    if (number in nums):\n",
        "        freq[nums.index(number)] = freq[nums.index(number)] + 1\n",
        "    else:\n",
        "        nums.append(number)\n",
        "        freq.append(1)\n",
        "\n",
        "freq = [s/sum(freq) for s in freq]\n",
        "\n",
        "print(nums)\n",
        "print(freq)\n",
        "\n",
        "x = range(0, 2**num)\n",
        "y = []\n",
        "for i in range(0, len(x)):\n",
        "    if (i in nums):\n",
        "        y.append(freq[nums.index(i)])\n",
        "    else:\n",
        "        y.append(0)\n",
        "\n",
        "plt.bar(x, y)"
      ],
      "execution_count": null,
      "outputs": []
    },
    {
      "cell_type": "code",
      "metadata": {
        "colab": {
          "base_uri": "https://localhost:8080/",
          "height": 282
        },
        "id": "0lh-j3RFlxx4",
        "outputId": "946e3963-9188-40a9-f785-34ed0ffc923f"
      },
      "source": [
        "plt.bar(x, y)"
      ],
      "execution_count": 311,
      "outputs": [
        {
          "output_type": "execute_result",
          "data": {
            "text/plain": [
              "<BarContainer object of 4096 artists>"
            ]
          },
          "metadata": {
            "tags": []
          },
          "execution_count": 311
        },
        {
          "output_type": "display_data",
          "data": {
            "image/png": "[encoded data removed]",
            "text/plain": [
              "<Figure size 432x288 with 1 Axes>"
            ]
          },
          "metadata": {
            "tags": [],
            "needs_background": "light"
          }
        }
      ]
    },
    {
      "cell_type": "code",
      "metadata": {
        "colab": {
          "base_uri": "https://localhost:8080/",
          "height": 0
        },
        "id": "e_Cf8l4WVI8r",
        "outputId": "019e917d-6c8c-4029-c747-ef06d87bcb6a"
      },
      "source": [
        "np.argmax(y)"
      ],
      "execution_count": 309,
      "outputs": [
        {
          "output_type": "execute_result",
          "data": {
            "text/plain": [
              "3485"
            ]
          },
          "metadata": {
            "tags": []
          },
          "execution_count": 309
        }
      ]
    },
    {
      "cell_type": "code",
      "metadata": {
        "colab": {
          "base_uri": "https://localhost:8080/",
          "height": 35
        },
        "id": "fd164-RIdIFl",
        "outputId": "9060c4d8-a642-4ed7-cc1d-4fcdb01e19ac"
      },
      "source": [
        "bin(3485)[2::]"
      ],
      "execution_count": 310,
      "outputs": [
        {
          "output_type": "execute_result",
          "data": {
            "application/vnd.google.colaboratory.intrinsic+json": {
              "type": "string"
            },
            "text/plain": [
              "'110110011101'"
            ]
          },
          "metadata": {
            "tags": []
          },
          "execution_count": 310
        }
      ]
    },
    {
      "cell_type": "markdown",
      "metadata": {
        "id": "jlppILivbpOk"
      },
      "source": [
        "Our QAOA solver suggests that there 1 solution which is $$\\{1,1,0,1,1,0,0,1,1,1,0,1\\}$$"
      ]
    },
    {
      "cell_type": "code",
      "metadata": {
        "id": "zO1VhsveK0tN"
      },
      "source": [
        "sampler = dimod.ExactSolver()\n",
        "response=sampler.sample_qubo(q0)"
      ],
      "execution_count": 215,
      "outputs": []
    },
    {
      "cell_type": "code",
      "metadata": {
        "colab": {
          "base_uri": "https://localhost:8080/",
          "height": 356
        },
        "id": "PXuEWMrkWs-e",
        "outputId": "8d3597b2-be29-4539-efd1-384b1dedae55"
      },
      "source": [
        "plt.hist(response.data_vectors['energy'])"
      ],
      "execution_count": 245,
      "outputs": [
        {
          "output_type": "execute_result",
          "data": {
            "text/plain": [
              "(array([1.348e+03, 1.294e+03, 7.340e+02, 4.230e+02, 1.920e+02, 4.200e+01,\n",
              "        4.900e+01, 8.000e+00, 5.000e+00, 1.000e+00]),\n",
              " array([-273. , -123.5,   26. ,  175.5,  325. ,  474.5,  624. ,  773.5,\n",
              "         923. , 1072.5, 1222. ]),\n",
              " <a list of 10 Patch objects>)"
            ]
          },
          "metadata": {
            "tags": []
          },
          "execution_count": 245
        },
        {
          "output_type": "display_data",
          "data": {
            "image/png": "[encoded data removed]",
            "text/plain": [
              "<Figure size 432x288 with 1 Axes>"
            ]
          },
          "metadata": {
            "tags": [],
            "needs_background": "light"
          }
        }
      ]
    },
    {
      "cell_type": "code",
      "metadata": {
        "colab": {
          "base_uri": "https://localhost:8080/",
          "height": 0
        },
        "id": "ZE6FQmhRayn5",
        "outputId": "baabe325-8af7-4603-8fe7-8b9242eae0ce"
      },
      "source": [
        "response.lowest().first.sample"
      ],
      "execution_count": 291,
      "outputs": [
        {
          "output_type": "execute_result",
          "data": {
            "text/plain": [
              "{0: 1, 1: 1, 2: 0, 3: 1, 4: 0, 5: 0, 6: 0, 7: 0, 8: 1, 9: 0, 10: 0, 11: 0}"
            ]
          },
          "metadata": {
            "tags": []
          },
          "execution_count": 291
        }
      ]
    },
    {
      "cell_type": "markdown",
      "metadata": {
        "id": "tBJviiMIbM9c"
      },
      "source": [
        "The exact solver tells us that there is 1 solution for x which is $$\\{1,1,0,1,0,0,0,0,1,0,0,0 \\}$$"
      ]
    },
    {
      "cell_type": "code",
      "metadata": {
        "colab": {
          "base_uri": "https://localhost:8080/",
          "height": 0
        },
        "id": "cs0xvnn0dy07",
        "outputId": "754405fc-a74c-4626-b01a-792d027d4bc6"
      },
      "source": [
        "numruns=10000\n",
        "sampler = dimod.SimulatedAnnealingSampler()\n",
        "response=sampler.sample_qubo(q0)\n",
        "print(response)"
      ],
      "execution_count": 307,
      "outputs": [
        {
          "output_type": "stream",
          "text": [
            "   0  1  2  3  4  5  6  7  8  9 10 11 energy num_oc.\n",
            "8  1  1  0  1  0  0  0  0  1  0  0  0 -273.0       1\n",
            "0  0  0  1  0  0  0  0  0  0  1  0  1 -241.0       1\n",
            "1  0  0  1  0  0  0  0  0  0  1  0  1 -241.0       1\n",
            "3  0  0  1  0  0  0  0  0  0  1  0  1 -241.0       1\n",
            "4  0  0  1  0  0  0  0  0  0  1  0  1 -241.0       1\n",
            "6  0  0  1  0  0  0  0  0  0  1  0  1 -241.0       1\n",
            "5  0  0  0  0  0  1  1  0  0  0  1  0 -236.0       1\n",
            "7  0  0  0  0  0  1  1  0  0  1  1  0 -236.0       1\n",
            "9  0  0  0  0  0  1  1  0  0  1  1  0 -236.0       1\n",
            "2  0  0  0  0  0  0  1  1  0  1  1  0 -234.0       1\n",
            "['BINARY', 10 rows, 10 samples, 12 variables]\n"
          ],
          "name": "stdout"
        }
      ]
    },
    {
      "cell_type": "markdown",
      "metadata": {
        "id": "2VCnyTy2ewqZ"
      },
      "source": [
        "**The simulated annealer can find the exact ground state is $$x=\\{1,1,0,1,0,0,0,0,1,0,0,0 \\}$$**"
      ]
    },
    {
      "cell_type": "markdown",
      "metadata": {
        "id": "8XpiQW8-iMXT"
      },
      "source": [
        "So our QAOA does not seem to work perfectly for randomly created n=12 graphs, but the simulated annealer works perfectly. \n",
        "\n",
        "\n",
        "We can quantify far away we are from the correct answer by looking at the  binary hamming distance between $$x_{QAOA}=\\{1,1,0,1,1,0,0,1,1,1,0,1\\}$$ and $$x_{exact}=\\{1,1,0,1,0,0,0,0,1,0,0,0 \\}$$\n",
        "which we calculate to be $d_b=4$  \n",
        "\n",
        "Examining the above two strings, we can see that we got an approximate answer that was not too wrong. I think the algorithm can be improved by:\n",
        "\n",
        "1. Carefully tuning hyperparameters such as the random initialization of $\\alpha_i,\\beta_i$ and depth\n",
        "2. Specializing to physically motivated Hamiltonians such as the SK model, may also point us in the correct direction to develop  heuristics for point 1.   \n",
        "\n"
      ]
    }
  ]
}